{
 "cells": [
  {
   "cell_type": "markdown",
   "metadata": {},
   "source": [
    "# Import semua module yang dibutuhkan:\n",
    "1. Import variables sks_matkul and ket_nilai.\n",
    "2. Import utils untuk keperluan kecil."
   ]
  },
  {
   "cell_type": "code",
   "execution_count": 1,
   "metadata": {},
   "outputs": [],
   "source": [
    "from variables import sks_matkul, ket_nilai\n",
    "from utils import displayDictKeys, displayMatkulDetails\n",
    "from controllers import calculateIPK"
   ]
  },
  {
   "cell_type": "markdown",
   "metadata": {},
   "source": [
    "# Membuat variables and menampilkan daftar matkul:\n",
    "1. Menyimpan jumlah matkul yang diisi oleh user.\n",
    "2. Membuat variable dict kosong untuk menyimpan daftar matkul yang diisi user.\n",
    "3. Menampilkan daftar matkul."
   ]
  },
  {
   "cell_type": "code",
   "execution_count": 2,
   "metadata": {},
   "outputs": [
    {
     "name": "stdout",
     "output_type": "stream",
     "text": [
      "\n",
      "Daftar matkul:\n",
      "1. pti\n",
      "2. mattek\n",
      "3. alpro\n",
      "4. matdis\n",
      "5. big\n",
      "6. bindo\n",
      "7. pancasila\n",
      "8. agama\n",
      "\n"
     ]
    }
   ],
   "source": [
    "input_jumlah_matkul = int(input(\"Masukkan jumlah matkul yang ingin dipilih: \"))\n",
    "user_matkul = {}\n",
    "print(f\"\\nDaftar matkul:\\n{displayDictKeys(sks_matkul)}\")"
   ]
  },
  {
   "cell_type": "markdown",
   "metadata": {},
   "source": [
    "# Mengisi matkul beserta nilai yang diperoleh dari matkul tersebut:\n",
    "1. Mengisi matkul + nilai sesuai jumlah matkul yang ingin diisi sebelumnya.\n",
    "2. Melakukan validasi pada input matkul tersedia pada daftar atau tidak.\n",
    "3. Melakukan validasi pada input nilai matkul tersedia pada daftar atau tidak.\n",
    "4. Menampilkan daftar matkul + nilai yang telah diisi oleh user."
   ]
  },
  {
   "cell_type": "code",
   "execution_count": 3,
   "metadata": {},
   "outputs": [
    {
     "name": "stdout",
     "output_type": "stream",
     "text": [
      "\n",
      "\n",
      "\n",
      "\n",
      "Matkul: alpro\n",
      "SKS: 4\n",
      "Nilai: A/4\n",
      "\n",
      "Matkul: mattek\n",
      "SKS: 2\n",
      "Nilai: B/3\n",
      "\n",
      "Matkul: pti\n",
      "SKS: 3\n",
      "Nilai: B/3\n",
      "\n",
      "Matkul: agama\n",
      "SKS: 2\n",
      "Nilai: C/2\n",
      "\n"
     ]
    }
   ],
   "source": [
    "for i in range(input_jumlah_matkul):\n",
    "  while True:\n",
    "    input_matkul = input(f\"Masukkan nama matkul: \")\n",
    "    if input_matkul not in sks_matkul.keys():\n",
    "      print(\"Matkul yang anda cari tidak ada pada daftar!\")\n",
    "    else:\n",
    "      break\n",
    "\n",
    "  while True:\n",
    "    input_nilai = input(f\"Masukkan nilai matkul {input_matkul} (ket: A, B, atau C): \").lower()\n",
    "    if input_nilai not in ket_nilai.keys():\n",
    "      print(\"Nilai yang tersedia: A, B, B+, C, C+, D, D+, dan E\")\n",
    "    else:\n",
    "      break\n",
    "\n",
    "  print()\n",
    "  user_matkul[input_matkul] = input_nilai\n",
    "\n",
    "displayMatkulDetails(user_matkul, sks_matkul, ket_nilai)"
   ]
  },
  {
   "cell_type": "markdown",
   "metadata": {},
   "source": [
    "# Menghitung IPK\n",
    "1. Menghitung IPK menggunakan fungsi calculateIPK() yang menerima parameter.\n",
    "    - Variable dict matkul user\n",
    "    - Variable dict daftar matkul\n",
    "    - Variable dict daftar nilai\n",
    "2. Menampilkan hasil IPK."
   ]
  },
  {
   "cell_type": "code",
   "execution_count": 4,
   "metadata": {},
   "outputs": [
    {
     "name": "stdout",
     "output_type": "stream",
     "text": [
      "\n",
      "Nilai IP adalah: 3.1818181818181817\n"
     ]
    }
   ],
   "source": [
    "ipk_score = calculateIPK(user_matkul, sks_matkul, ket_nilai)\n",
    "print(f\"\\nNilai IP adalah: {ipk_score}\")"
   ]
  }
 ],
 "metadata": {
  "kernelspec": {
   "display_name": "Python 3",
   "language": "python",
   "name": "python3"
  },
  "language_info": {
   "codemirror_mode": {
    "name": "ipython",
    "version": 3
   },
   "file_extension": ".py",
   "mimetype": "text/x-python",
   "name": "python",
   "nbconvert_exporter": "python",
   "pygments_lexer": "ipython3",
   "version": "3.12.3"
  }
 },
 "nbformat": 4,
 "nbformat_minor": 2
}
