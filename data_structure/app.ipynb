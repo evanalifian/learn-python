{
 "cells": [
  {
   "cell_type": "markdown",
   "metadata": {},
   "source": [
    "# Import semua module yang dibutuhkan:\n",
    "1. Import variables sks_matkul and ket_nilai.\n",
    "2. Import utils untuk keperluan kecil."
   ]
  },
  {
   "cell_type": "code",
   "execution_count": 1,
   "metadata": {},
   "outputs": [],
   "source": [
    "from variables import subjects, grades\n",
    "from utils import display_subjects, display_user_subjects\n",
    "from controllers import calculateIPK"
   ]
  },
  {
   "cell_type": "markdown",
   "metadata": {},
   "source": [
    "# Membuat variables and menampilkan daftar matkul:\n",
    "1. Menyimpan jumlah matkul yang diisi oleh user.\n",
    "2. Membuat variable dict kosong untuk menyimpan daftar matkul yang diisi user.\n",
    "3. Menampilkan daftar matkul."
   ]
  },
  {
   "cell_type": "code",
   "execution_count": 2,
   "metadata": {},
   "outputs": [
    {
     "name": "stdout",
     "output_type": "stream",
     "text": [
      "Daftar Mata Kuliah:\n",
      "1. pti\n",
      "2. mattek\n",
      "3. alpro\n",
      "4. matdis\n",
      "5. big\n",
      "6. bindo\n",
      "7. pancasila\n",
      "8. agama\n",
      "\n"
     ]
    }
   ],
   "source": [
    "total_subjects = int(input(\"Masukkan jumlah matkul yang ingin dipilih: \"))\n",
    "user_subjects = {}\n",
    "display_subjects()\n",
    "print()"
   ]
  },
  {
   "cell_type": "markdown",
   "metadata": {},
   "source": [
    "# Mengisi matkul beserta nilai yang diperoleh dari matkul tersebut:\n",
    "1. Mengisi matkul + nilai sesuai jumlah matkul yang ingin diisi sebelumnya.\n",
    "2. Melakukan validasi pada input matkul tersedia pada daftar atau tidak.\n",
    "3. Melakukan validasi pada input nilai matkul tersedia pada daftar atau tidak.\n",
    "4. Menampilkan daftar matkul + nilai yang telah diisi oleh user."
   ]
  },
  {
   "cell_type": "code",
   "execution_count": 3,
   "metadata": {},
   "outputs": [
    {
     "name": "stdout",
     "output_type": "stream",
     "text": [
      "\n",
      "Matkul yang berhasil dipilih:\n",
      "Nama\t: pti\n",
      "SKS\t: 3\n",
      "Nilai\t: B+/3.5\n",
      "\n",
      "Nama\t: mattek\n",
      "SKS\t: 2\n",
      "Nilai\t: A/4\n",
      "\n",
      "Nama\t: alpro\n",
      "SKS\t: 4\n",
      "Nilai\t: A/4\n",
      "\n",
      "Nama\t: matdis\n",
      "SKS\t: 3\n",
      "Nilai\t: B+/3.5\n",
      "\n",
      "Nama\t: big\n",
      "SKS\t: 2\n",
      "Nilai\t: A/4\n",
      "\n",
      "Nama\t: bindo\n",
      "SKS\t: 2\n",
      "Nilai\t: A/4\n",
      "\n",
      "Nama\t: pancasila\n",
      "SKS\t: 2\n",
      "Nilai\t: A/4\n",
      "\n",
      "Nama\t: agama\n",
      "SKS\t: 2\n",
      "Nilai\t: A/4\n",
      "\n"
     ]
    }
   ],
   "source": [
    "for i in range(total_subjects):\n",
    "  while True:\n",
    "    subject = input(f\"Masukkan nama matkul: \")\n",
    "    if subject not in subjects.keys():\n",
    "      print(\"Matkul yang anda cari tidak ada pada daftar!\")\n",
    "    else:\n",
    "      break\n",
    "\n",
    "  while True:\n",
    "    grade = input(f\"Masukkan nilai matkul {subject} (ket: A, B, atau C): \").lower()\n",
    "    if grade not in grades.keys():\n",
    "      print(\"Nilai yang tersedia: A, B, B+, C, C+, D, D+, dan E\")\n",
    "    else:\n",
    "      break\n",
    "\n",
    "  user_subjects[subject] = grade\n",
    "\n",
    "print(\"\\nMatkul yang berhasil dipilih:\")\n",
    "display_user_subjects(user_subjects)"
   ]
  },
  {
   "cell_type": "markdown",
   "metadata": {},
   "source": [
    "# Menghitung IPK\n",
    "1. Menghitung IPK menggunakan fungsi calculateIPK() yang menerima parameter.\n",
    "    - Variable dict matkul user\n",
    "    - Variable dict daftar matkul\n",
    "    - Variable dict daftar nilai\n",
    "2. Menampilkan hasil IPK."
   ]
  },
  {
   "cell_type": "code",
   "execution_count": 4,
   "metadata": {},
   "outputs": [
    {
     "name": "stdout",
     "output_type": "stream",
     "text": [
      "\n",
      "Nilai IPs Anda adalah: 3.85\n"
     ]
    }
   ],
   "source": [
    "ipk_score = calculateIPK(user_subjects)\n",
    "print(f\"\\nNilai IPs Anda adalah: {ipk_score}\")"
   ]
  }
 ],
 "metadata": {
  "kernelspec": {
   "display_name": "Python 3",
   "language": "python",
   "name": "python3"
  },
  "language_info": {
   "codemirror_mode": {
    "name": "ipython",
    "version": 3
   },
   "file_extension": ".py",
   "mimetype": "text/x-python",
   "name": "python",
   "nbconvert_exporter": "python",
   "pygments_lexer": "ipython3",
   "version": "3.12.3"
  }
 },
 "nbformat": 4,
 "nbformat_minor": 2
}
